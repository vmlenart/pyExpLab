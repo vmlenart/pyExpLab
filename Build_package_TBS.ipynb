{
 "cells": [
  {
   "cell_type": "code",
   "execution_count": 1,
   "metadata": {},
   "outputs": [
    {
     "data": {
      "text/plain": [
       "['USB0::0x0699::0x0368::C044865::INSTR',\n",
       " 'ASRL1::INSTR',\n",
       " 'ASRL3::INSTR',\n",
       " 'ASRL6::INSTR',\n",
       " 'ASRL10::INSTR',\n",
       " 'COM3',\n",
       " 'COM1',\n",
       " 'COM6']"
      ]
     },
     "execution_count": 1,
     "metadata": {},
     "output_type": "execute_result"
    }
   ],
   "source": [
    "import numpy as np\n",
    "import pandas as pd\n",
    "import matplotlib.pyplot as plt\n",
    "#plt.style.use('dark_background')\n",
    "import matplotlib.gridspec as gridspec\n",
    "from matplotlib.ticker import EngFormatter\n",
    "from struct import unpack\n",
    "import os, serial\n",
    "from time import *\n",
    "from scipy.optimize import curve_fit\n",
    "from tqdm.notebook import trange\n",
    "\n",
    "from threading import Thread\n",
    "\n",
    "import ipywidgets as wdg\n",
    "\n",
    "from serial.tools.list_ports import comports\n",
    "seriais = ([p.device for p in comports()])\n",
    "\n",
    "import pyvisa\n",
    "rm = pyvisa.ResourceManager()\n",
    "#print (rm)\n",
    "device = rm.list_resources()\n",
    "\n",
    "ports = list(device)+seriais\n",
    "ports"
   ]
  },
  {
   "cell_type": "code",
   "execution_count": 2,
   "metadata": {},
   "outputs": [],
   "source": [
    "def acquire(channel, port) -> 'takes the wave on the screen':\n",
    "    '''Reads and downloads current data from the oscilloscope screen'''\n",
    "    try:\n",
    "        scope = rm.open_resource(port)\n",
    "        scope.write(\"DATA:SOURCE \" + channel)\n",
    "        scope.write('DATA:WIDTH 2')\n",
    "        scope.write('DATA:ENC SRI')\n",
    "        ymult = float(scope.query('WFMPRE:YMULT?'))\n",
    "        yzero = float(scope.query('WFMPRE:YZERO?'))\n",
    "        yoff = float(scope.query('WFMPRE:YOFF?'))\n",
    "        xincr = float(scope.query('WFMPRE:XINCR?'))\n",
    "        xdelay = float(scope.query('HORizontal:POSition?'))\n",
    "        scope.write('CURVE?')\n",
    "        data = scope.read_raw()\n",
    "        headerlen = 2 + int(data[1])\n",
    "        header = data[:headerlen]\n",
    "        ADC_wave = data[headerlen:-1]\n",
    "        ADC_wave = np.frombuffer(ADC_wave, dtype=np.int16)\n",
    "        Volts = (ADC_wave - yoff) * ymult  + yzero\n",
    "        Time = np.arange(0, (xincr * len(Volts)), xincr)-((xincr * len(Volts))/2-xdelay)\n",
    "        return Time, Volts\n",
    "    except IndexError:\n",
    "        return 0,0"
   ]
  },
  {
   "cell_type": "code",
   "execution_count": 3,
   "metadata": {},
   "outputs": [],
   "source": [
    "tds = rm.open_resource(ports[0])"
   ]
  },
  {
   "cell_type": "code",
   "execution_count": 4,
   "metadata": {},
   "outputs": [
    {
     "data": {
      "text/plain": [
       "'TEKTRONIX,TBS 1052B,C044865,CF:91.1CT FV:v4.06\\n'"
      ]
     },
     "execution_count": 4,
     "metadata": {},
     "output_type": "execute_result"
    }
   ],
   "source": [
    "tds.query(\"*IDN?\")"
   ]
  },
  {
   "cell_type": "code",
   "execution_count": 7,
   "metadata": {},
   "outputs": [
    {
     "data": {
      "text/plain": [
       "[<matplotlib.lines.Line2D at 0x1d44bdb9088>]"
      ]
     },
     "execution_count": 7,
     "metadata": {},
     "output_type": "execute_result"
    },
    {
     "data": {
      "image/png": "[encoded data removed]",
      "text/plain": [
       "<Figure size 432x288 with 1 Axes>"
      ]
     },
     "metadata": {
      "needs_background": "light"
     },
     "output_type": "display_data"
    }
   ],
   "source": [
    "teste = acquire('CH1', ports[0])\n",
    "plt.plot(teste[0],teste[1])"
   ]
  },
  {
   "cell_type": "code",
   "execution_count": 8,
   "metadata": {},
   "outputs": [],
   "source": [
    "ACQ = { \n",
    "    'ACQuire' : ['ACQuire?', 'ACQuire:'],\n",
    "    'types' : ['MODe', 'NUMACq', 'NUMAVg', 'STATE', 'STOPAfter'],\n",
    "    'MODe': ['MODe?', 'SAMple', 'PEAKdetect', 'AVErage'],\n",
    "    'NUMACq' : ['NUMACq?'],\n",
    "    'NUMAVg' : ['NUMAVg?', '4', '16', '64', '128'], \n",
    "    'STATE' : ['STATE?', 'OFF', 'ON', 'RUN', 'STOP'],\n",
    "    'STOPAfter' : ['STOPAfter?', 'RUNSTop', 'SEQuence']\n",
    "}\n",
    "\n",
    "ALLE = {\n",
    "    'ALLEv': ['ALLEv?']\n",
    "}\n",
    "\n",
    "AUTOR = {\n",
    "    'AUTORANGE' : ['AUTORANGE?', 'AUTORange:'],\n",
    "    'types' : ['STATE', 'SETTings'],\n",
    "    'STATE' : ['STATE?', 'OFF', 'ON'], \n",
    "    'SETTings' : ['SETTings?', 'HORizontal', 'VERTical', 'BOTH']\n",
    "}\n",
    "\n",
    "AUTOS = {\n",
    "    'AUTOSet' : ['AUTOSet EXECute', 'AUTOSet:'], \n",
    "    'types' : ['ENABLE', 'SIGNAL', 'VIEW'],\n",
    "    'ENABLE' : ['ENABLE'],\n",
    "    'SIGNAL' : ['SIGNAL?'], \n",
    "    'VIEW' : ['MULTICYcle', 'SINGLECYcle', 'FFT', 'RISINGedge', \n",
    "              'FALLINGedge', 'FIELD', 'ODD', 'EVEN', 'LINE', 'LINENum', 'DCLIne', \n",
    "              'DEFault', 'NONE']\n",
    "}\n",
    "\n",
    "MEASU = {\n",
    "    'MEASUrement' : ['MEASUrement?', 'MEASUrement:'], \n",
    "    'types' : ['IMMed', 'MEAS'],\n",
    "    'IMMed' : ['TYPe']\n",
    "}\n",
    "\n",
    "MEASU_IMM = {'SOUrce' : ['CH1', 'CH2', 'MATH'],\n",
    "             'TYPe' : ['CRMs', 'FALL', 'FREQuency', 'MAXImum', \n",
    "                       'MEAN', 'MINImum', 'NONe', 'NWIdth', 'PERIod',\n",
    "                       'PK2pk', 'PWIdth','RISe', 'RMS', 'CURSORRms', \n",
    "                       'PDUTy', 'PHAse', 'DELAYRR', 'DELAYRF','DELAYFR', \n",
    "                       'DELAYFF', 'AMplitude', 'CMEAN', 'High', 'LOW', \n",
    "                       'NDUty','POVERshoot', 'NOVERshoot', 'CURSORMean', \n",
    "                       'BURSTWIDth' , 'AREA','CAREA', 'PPULSECount', \n",
    "                       'NPULSECount', 'REDGECount', 'FEDGECount']\n",
    "            }\n",
    "\n",
    "BUSY = {'BUSY' : ['BUSY?']}\n",
    "\n",
    "CAL = {'CALibrate' : ['*CAL?', 'CALibrate:'], \n",
    "       'types' : ['ABOrt', 'CONTINUE', 'FACtory', 'INTERNAL', 'STATUS'],\n",
    "       'ABOrt' : ['ABOrt'],\n",
    "       'CONTINUE' : ['CONTINUE'],\n",
    "       'FACtory' : ['FACtory'],\n",
    "       'INTERNAL' : ['INTERNAL'],\n",
    "       'STATUS' : ['STATUS?']\n",
    "      }\n",
    "\n",
    "CH = {'CH' :['CH1?', 'CH2?', 'CH1:', 'CH2:'], \n",
    "      'types' : ['BANdwidth', 'COUPling', 'CURRENTPRObe', 'INVert', 'POSition', 'PRObe', 'SCAle', 'VOLts', 'YUNit'],\n",
    "      'BANdwidth' : ['BANdwidth?', 'ON', 'OFF'],\n",
    "      'COUPling' : ['COUPling?', 'AC', 'DC', 'GND'],\n",
    "      'CURRENTPRObe' : ['CURRENTPRObe?', '0.2', '1', '2', '5', '10', '50', '100', '1000'],\n",
    "      'INVert' : ['INVert?', 'ON', 'OFF'],\n",
    "      'POSition' : [],\n",
    "      'PRObe' : ['PRObe?', '1', '10', '20', '50', '100', '500', '1000'],\n",
    "      'SCAle' : [],\n",
    "      'VOLts' : [],\n",
    "      'YUNit' : []\n",
    "     }\n",
    "\n",
    "types = MEASU_IMM['TYPe']\n",
    "\n",
    "Acquisition = [ACQ]\n",
    "Status_and_Error = [ALLE, BUSY]\n",
    "Miscellaneous = [AUTOR, AUTOS]\n",
    "Measurement = [MEASU, MEASU_IMM]\n",
    "Calibration_and_Diagnostic = [CAL]\n",
    "Vertical = [CH]\n",
    "\n",
    "def asktds(ch, types):\n",
    "    tds.write(\"MEASUrement:IMMED:SOUrce \" + ch)\n",
    "    tds.write(\"MEASUrement:IMMED:TYPE \" + types)\n",
    "    return tds.query(\"MEASUrement:IMMED:VALUe?\").strip('\\n')"
   ]
  },
  {
   "cell_type": "code",
   "execution_count": 9,
   "metadata": {},
   "outputs": [
    {
     "data": {
      "text/plain": [
       "['MEASUrement', 'types', 'IMMed']"
      ]
     },
     "execution_count": 9,
     "metadata": {},
     "output_type": "execute_result"
    }
   ],
   "source": [
    "list(MEASU.keys())"
   ]
  },
  {
   "cell_type": "code",
   "execution_count": 236,
   "metadata": {},
   "outputs": [
    {
     "data": {
      "text/plain": [
       "'MEASUrement:IMMed'"
      ]
     },
     "execution_count": 236,
     "metadata": {},
     "output_type": "execute_result"
    }
   ],
   "source": [
    "list(MEASU.values())[0][1]+list(MEASU.keys())[2]"
   ]
  },
  {
   "cell_type": "code",
   "execution_count": 234,
   "metadata": {},
   "outputs": [
    {
     "data": {
      "text/plain": [
       "dict_items([('SOUrce', ['CH1', 'CH2', 'MATH']), ('TYPe', ['CRMs', 'FALL', 'FREQuency', 'MAXImum', 'MEAN', 'MINImum', 'NONe', 'NWIdth', 'PERIod', 'PK2pk', 'PWIdth', 'RISe', 'RMS', 'CURSORRms', 'PDUTy', 'PHAse', 'DELAYRR', 'DELAYRF', 'DELAYFR', 'DELAYFF', 'AMplitude', 'CMEAN', 'High', 'LOW', 'NDUty', 'POVERshoot', 'NOVERshoot', 'CURSORMean', 'BURSTWIDth', 'AREA', 'CAREA', 'PPULSECount', 'NPULSECount', 'REDGECount', 'FEDGECount'])])"
      ]
     },
     "execution_count": 234,
     "metadata": {},
     "output_type": "execute_result"
    }
   ],
   "source": [
    "Measurement[1].items()"
   ]
  },
  {
   "cell_type": "code",
   "execution_count": 233,
   "metadata": {},
   "outputs": [
    {
     "data": {
      "text/plain": [
       "'ACQuire?'"
      ]
     },
     "execution_count": 233,
     "metadata": {},
     "output_type": "execute_result"
    }
   ],
   "source": [
    "ACQ[list(ACQ.keys())[0]][0]"
   ]
  },
  {
   "cell_type": "code",
   "execution_count": 4,
   "metadata": {},
   "outputs": [
    {
     "data": {
      "text/plain": [
       "'TEKTRONIX,TBS 1052B,C044865,CF:91.1CT FV:v4.06\\n'"
      ]
     },
     "execution_count": 4,
     "metadata": {},
     "output_type": "execute_result"
    }
   ],
   "source": [
    "tds.query(\"*IDN?\")"
   ]
  },
  {
   "cell_type": "code",
   "execution_count": 7,
   "metadata": {},
   "outputs": [
    {
     "data": {
      "text/plain": [
       "'PK2pk'"
      ]
     },
     "execution_count": 7,
     "metadata": {},
     "output_type": "execute_result"
    }
   ],
   "source": [
    "types[9]"
   ]
  },
  {
   "cell_type": "code",
   "execution_count": 8,
   "metadata": {},
   "outputs": [
    {
     "data": {
      "text/plain": [
       "'5.759999752E0'"
      ]
     },
     "execution_count": 8,
     "metadata": {},
     "output_type": "execute_result"
    }
   ],
   "source": [
    "asktds('CH1', types[9])"
   ]
  },
  {
   "cell_type": "code",
   "execution_count": 14,
   "metadata": {
    "scrolled": false
   },
   "outputs": [
    {
     "name": "stdout",
     "output_type": "stream",
     "text": [
      "0 CRMs 1.7816183567E0 1.7688142061E0\n",
      "1 FALL 2.78E-3 2.8199998E-3\n",
      "2 FREQuency 1.0E2 1.0E2\n",
      "3 MAXImum 2.5599999428E0 2.5599999428E0\n",
      "4 MEAN -1.78791508E-2 -7.6830732E-3\n",
      "5 MINImum -2.5599999428E0 -2.4800000191E0\n",
      "6 NONe -2.5599999428E0 -2.4800000191E0\n",
      "7 NWIdth 4.9999999E-3 5.02E-3\n",
      "8 PERIod 9.9999998E-3 9.9999998E-3\n",
      "9 PK2pk 5.1199998856E0 5.0399999619E0\n",
      "10 PWIdth 4.9399999E-3 4.9799997E-3\n",
      "11 RISe 2.7999999E-3 2.7999999E-3\n",
      "12 RMS 1.7821164131E0 1.7672729492E0\n",
      "13 CURSORRms 1.7803651094E0 1.7673316002E0\n",
      "14 PDUTy 4.96000022888E1 4.96993980408E1\n",
      "15 PHAse 1.439999938E0 0.0E0\n",
      "16 DELAYRR 2.0E-5 0.0E0\n",
      "17 DELAYRF -4.9299998E-3 -4.9799997E-3\n",
      "18 DELAYFR 4.9999999E-3 4.9399999E-3\n",
      "19 DELAYFF 0.0E0 0.0E0\n",
      "20 AMplitude 4.9600000381E0 4.9600000381E0\n",
      "21 CMEAN -1.64799988E-2 -7.9840319E-3\n",
      "22 High 2.4800000191E0 2.4800000191E0\n",
      "23 LOW -2.4800000191E0 -2.4800000191E0\n",
      "24 NDUty 5.05999984741E1 5.03999977112E1\n",
      "25 POVERshoot 1.6129016876E0 1.6129016876E0\n",
      "26 NOVERshoot 1.6129016876E0 0.0E0\n",
      "27 CURSORMean -1.92959998E-2 -6.8799998E-3\n",
      "28 BURSTWIDth 4.49800007E-2 4.49999981E-2\n",
      "29 AREA -9.631999E-4 -4.24E-4\n",
      "30 CAREA -2.24E-4 -7.84E-5\n",
      "31 PPULSECount 5.0E0 5.0E0\n",
      "32 NPULSECount 4.0E0 4.0E0\n",
      "33 REDGECount 5.0E0 5.0E0\n",
      "34 FEDGECount 4.0E0 4.0E0\n"
     ]
    }
   ],
   "source": [
    "for i in range(len(types)):\n",
    "    print(i, types[i], asktds('CH1', types[i]), asktds('CH2', types[i]))"
   ]
  },
  {
   "cell_type": "code",
   "execution_count": 52,
   "metadata": {},
   "outputs": [
    {
     "data": {
      "text/plain": [
       "(17, <StatusCode.success: 0>)"
      ]
     },
     "execution_count": 52,
     "metadata": {},
     "output_type": "execute_result"
    }
   ],
   "source": [
    "tds.write('AUTOSet EXECute')"
   ]
  },
  {
   "cell_type": "code",
   "execution_count": 11,
   "metadata": {},
   "outputs": [
    {
     "data": {
      "text/plain": [
       "(20, <StatusCode.success: 0>)"
      ]
     },
     "execution_count": 11,
     "metadata": {},
     "output_type": "execute_result"
    }
   ],
   "source": [
    "tds.write('AUTORANGE:SETTINGS BOTH ')\n",
    "tds.write('AUTORANGE:STATE ON')"
   ]
  },
  {
   "cell_type": "code",
   "execution_count": 60,
   "metadata": {},
   "outputs": [
    {
     "data": {
      "text/plain": [
       "'0\\n'"
      ]
     },
     "execution_count": 60,
     "metadata": {},
     "output_type": "execute_result"
    }
   ],
   "source": [
    "tds.query(\"AUTORANGE:STATE?\")"
   ]
  },
  {
   "cell_type": "code",
   "execution_count": null,
   "metadata": {},
   "outputs": [],
   "source": []
  }
 ],
 "metadata": {
  "kernelspec": {
   "display_name": "Python 3",
   "language": "python",
   "name": "python3"
  },
  "language_info": {
   "codemirror_mode": {
    "name": "ipython",
    "version": 3
   },
   "file_extension": ".py",
   "mimetype": "text/x-python",
   "name": "python",
   "nbconvert_exporter": "python",
   "pygments_lexer": "ipython3",
   "version": "3.7.6"
  },
  "toc": {
   "base_numbering": 1,
   "nav_menu": {},
   "number_sections": true,
   "sideBar": true,
   "skip_h1_title": false,
   "title_cell": "Table of Contents",
   "title_sidebar": "Contents",
   "toc_cell": false,
   "toc_position": {},
   "toc_section_display": true,
   "toc_window_display": false
  }
 },
 "nbformat": 4,
 "nbformat_minor": 4
}
