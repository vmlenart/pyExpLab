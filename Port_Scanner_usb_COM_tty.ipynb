{
 "cells": [
  {
   "cell_type": "code",
   "execution_count": 1,
   "metadata": {},
   "outputs": [
    {
     "name": "stdout",
     "output_type": "stream",
     "text": [
      "usbtmc: []\n",
      "serial: ['COM1', 'COM3']\n"
     ]
    }
   ],
   "source": [
    "import os, sys, glob, serial, usbtmc\n",
    "\n",
    "print('usbtmc:', usbtmc.list_devices())\n",
    "\n",
    "def serial_ports():\n",
    "    if sys.platform.startswith('win'):\n",
    "        ports = ['COM%s' % (i + 1) for i in range(256)]\n",
    "    elif sys.platform.startswith('linux') or sys.platform.startswith('cygwin'):\n",
    "        ports = glob.glob('/dev/tty[A-Za-z]*')\n",
    "    elif sys.platform.startswith('darwin'):\n",
    "        ports = glob.glob('/dev/tty.*')\n",
    "    else:\n",
    "        raise EnvironmentError('Unsupported platform')\n",
    "    result = []\n",
    "    for port in ports:\n",
    "        try:\n",
    "            s = serial.Serial(port)\n",
    "            s.close()\n",
    "            result.append(port)\n",
    "        except (OSError, serial.SerialException):\n",
    "            pass\n",
    "    return result\n",
    "if __name__ == '__main__':\n",
    "    print('serial:',serial_ports())"
   ]
  },
  {
   "cell_type": "code",
   "execution_count": 4,
   "metadata": {},
   "outputs": [
    {
     "data": {
      "text/plain": [
       "['ASRL1::INSTR', 'ASRL3::INSTR', 'ASRL10::INSTR', 'COM3', 'COM1']"
      ]
     },
     "execution_count": 4,
     "metadata": {},
     "output_type": "execute_result"
    }
   ],
   "source": [
    "from serial.tools.list_ports import comports\n",
    "seriais = ([p.device for p in comports()])\n",
    "\n",
    "import pyvisa\n",
    "rm = pyvisa.ResourceManager()\n",
    "#print (rm)\n",
    "device = rm.list_resources()\n",
    "\n",
    "ports = list(device)+seriais\n",
    "ports"
   ]
  },
  {
   "cell_type": "code",
   "execution_count": null,
   "metadata": {},
   "outputs": [],
   "source": []
  }
 ],
 "metadata": {
  "kernelspec": {
   "display_name": "Python 3",
   "language": "python",
   "name": "python3"
  },
  "language_info": {
   "codemirror_mode": {
    "name": "ipython",
    "version": 3
   },
   "file_extension": ".py",
   "mimetype": "text/x-python",
   "name": "python",
   "nbconvert_exporter": "python",
   "pygments_lexer": "ipython3",
   "version": "3.7.6"
  },
  "toc": {
   "base_numbering": 1,
   "nav_menu": {},
   "number_sections": true,
   "sideBar": true,
   "skip_h1_title": false,
   "title_cell": "Table of Contents",
   "title_sidebar": "Contents",
   "toc_cell": false,
   "toc_position": {},
   "toc_section_display": true,
   "toc_window_display": false
  }
 },
 "nbformat": 4,
 "nbformat_minor": 2
}
